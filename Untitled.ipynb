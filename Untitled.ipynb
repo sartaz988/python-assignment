{
 "cells": [
  {
   "cell_type": "markdown",
   "id": "560116e5-739d-4631-b887-f60db51662b7",
   "metadata": {},
   "source": [
    "1.In the below elements which of them are values or an expression? eg:- values can be\n",
    "integer or string and expressions will be mathematical operators.\n",
    "*\n",
    "'hello'\n",
    "-87.8\n",
    "-\n",
    "/\n",
    "+\n",
    "6"
   ]
  },
  {
   "cell_type": "code",
   "execution_count": null,
   "id": "a25a9c31-243c-42d1-b0f3-ee75245b87ce",
   "metadata": {},
   "outputs": [],
   "source": [
    "Values: 'hello', -87.8, 6\n",
    "Expressions: *, -, /, +"
   ]
  },
  {
   "cell_type": "markdown",
   "id": "5872ccb0-e036-4f90-9833-0c35b36a07a8",
   "metadata": {},
   "source": [
    "2. What is the difference between string and variable?"
   ]
  },
  {
   "cell_type": "code",
   "execution_count": null,
   "id": "fb357044-9734-461e-aa8a-1e3efdf256ed",
   "metadata": {},
   "outputs": [],
   "source": [
    "String: Text inside quotes, like 'hello'.\n",
    "Variable: Name that stores a value, like name = 'hello'."
   ]
  },
  {
   "cell_type": "markdown",
   "id": "ac7fb8ab-e93e-43d2-b46c-191adf6ebe5f",
   "metadata": {},
   "source": [
    "3. Describe three different data types."
   ]
  },
  {
   "cell_type": "code",
   "execution_count": null,
   "id": "b7e77278-60e8-4284-a353-2ca1d2b490cb",
   "metadata": {},
   "outputs": [],
   "source": [
    "Integer – Whole numbers\n",
    " Example: 5, -10, 100\n",
    "\n",
    "String – Text\n",
    " Example: 'hello', \"apple\"\n",
    "\n",
    "Float – Numbers with decimals\n",
    " Example: 3.14, -0.5, 7.0"
   ]
  },
  {
   "cell_type": "markdown",
   "id": "cde5543f-8619-4ae1-ae2d-ceb3523820f4",
   "metadata": {},
   "source": [
    "4. What is an expression made up of? What do all expressions do?"
   ]
  },
  {
   "cell_type": "code",
   "execution_count": null,
   "id": "c63c8447-5a8c-4965-9138-ea1604fff840",
   "metadata": {},
   "outputs": [],
   "source": [
    "values (like numbers or strings)\n",
    "\n",
    "Variables\n",
    "\n",
    "Operators (like +, -, *, /)\n",
    "\n",
    " Example: a + 5, 'Hi' + ' there'"
   ]
  },
  {
   "cell_type": "markdown",
   "id": "1e57f245-a4d4-4e1c-835d-bf1dc7f2d72b",
   "metadata": {},
   "source": [
    "5. This assignment statements, like spam = 10. What is the difference between an\n",
    "expression and a statement?"
   ]
  },
  {
   "cell_type": "code",
   "execution_count": null,
   "id": "f1008e59-de8a-4e0f-a559-508a38cef47c",
   "metadata": {},
   "outputs": [],
   "source": [
    "Expression: Gives a value → 5 + 3 → 8\n",
    "Statement: Does something → spam = 10 (stores 10 in spam)"
   ]
  },
  {
   "cell_type": "markdown",
   "id": "d47c8922-f30b-4df3-b623-1e7ad5a39e4e",
   "metadata": {},
   "source": [
    "6. After running the following code, what does the variable bacon contain?\n",
    "bacon = 22\n",
    "bacon + 1"
   ]
  },
  {
   "cell_type": "code",
   "execution_count": null,
   "id": "1e1339b1-4b7b-4d56-aed8-865e36a13890",
   "metadata": {},
   "outputs": [],
   "source": [
    "bacon = 22\n",
    "bacon + 1\n",
    "The variable bacon still contains 22.\n",
    "\n",
    "Because bacon + 1 calculates 23, but it does not update the value of bacon (no assignment)."
   ]
  },
  {
   "cell_type": "markdown",
   "id": "a7b1d926-5137-4f22-9b78-09e98ced8845",
   "metadata": {},
   "source": [
    "7. What should the values of the following two terms be?\n",
    "'spam'+'spamspam'\n",
    "'spam'*3"
   ]
  },
  {
   "cell_type": "code",
   "execution_count": null,
   "id": "2b042199-0cb9-400c-9754-28075351684e",
   "metadata": {},
   "outputs": [],
   "source": [
    "'spam' + 'spamspam' → 'spamspamspam'\n",
    "\n",
    "'spam' * 3 → 'spamspamspam'"
   ]
  },
  {
   "cell_type": "markdown",
   "id": "70457481-e5be-4b78-99f1-bff4c3a16c06",
   "metadata": {},
   "source": [
    "8. Why is eggs a valid variable name while 100 is invalid?"
   ]
  },
  {
   "cell_type": "code",
   "execution_count": null,
   "id": "cc2b391c-9a77-4b39-9180-29dfeaf5aab7",
   "metadata": {},
   "outputs": [],
   "source": [
    "eggs is valid because it starts with a letter.\n",
    "100 is invalid because variable names can’t start with a numbe"
   ]
  },
  {
   "cell_type": "markdown",
   "id": "24b88b55-1e9e-47d7-a312-96a0e889907e",
   "metadata": {},
   "source": [
    "9. What three functions can be used to get the integer, floating-point number, or string\n",
    "version of a value?"
   ]
  },
  {
   "cell_type": "code",
   "execution_count": null,
   "id": "4df4417a-d659-4304-96dd-f5aa11d6c8da",
   "metadata": {},
   "outputs": [],
   "source": [
    "int() → makes a number an integer\n",
    "\n",
    "float() → makes a number a decimal\n",
    "\n",
    "str() → makes it text (string)"
   ]
  },
  {
   "cell_type": "markdown",
   "id": "c53896bb-d881-4044-8249-b9742eeaa269",
   "metadata": {},
   "source": [
    "10. Why does this expression cause an error? How can you fix it?\n",
    "'i have eaten'+99+'burritos'"
   ]
  },
  {
   "cell_type": "code",
   "execution_count": null,
   "id": "b0dcfc7e-44a6-407a-b2ce-c6c284c8c16e",
   "metadata": {},
   "outputs": [],
   "source": [
    "'I have eaten ' + str(99) + ' burritos.'\n",
    "Result: 'I have eaten 99 burritos.'"
   ]
  }
 ],
 "metadata": {
  "kernelspec": {
   "display_name": "Python 3 (ipykernel)",
   "language": "python",
   "name": "python3"
  },
  "language_info": {
   "codemirror_mode": {
    "name": "ipython",
    "version": 3
   },
   "file_extension": ".py",
   "mimetype": "text/x-python",
   "name": "python",
   "nbconvert_exporter": "python",
   "pygments_lexer": "ipython3",
   "version": "3.10.0"
  }
 },
 "nbformat": 4,
 "nbformat_minor": 5
}
